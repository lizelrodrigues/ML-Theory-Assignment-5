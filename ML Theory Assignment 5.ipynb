{
 "cells": [
  {
   "cell_type": "code",
   "execution_count": null,
   "id": "8fed67aa",
   "metadata": {},
   "outputs": [],
   "source": [
    "#ML Theory Assignment 5"
   ]
  },
  {
   "cell_type": "markdown",
   "id": "5e154319",
   "metadata": {},
   "source": [
    "1.What are the key tasks that machine learning entails? What does data pre-processing imply?"
   ]
  },
  {
   "cell_type": "code",
   "execution_count": null,
   "id": "e2dd0369",
   "metadata": {},
   "outputs": [],
   "source": [
    "# Data preprocessing is a process of preparing the raw data and making it suitable for a machine learning model. \n",
    "# It is the first and crucial step while creating a machine learning model. When creating a machine learning project\n",
    "# it is not always a case that we come across the clean and formatted data."
   ]
  },
  {
   "cell_type": "markdown",
   "id": "0a1d451d",
   "metadata": {},
   "source": [
    "2.Describe quantitative and qualitative data in depth. Make a distinction between the two."
   ]
  },
  {
   "cell_type": "code",
   "execution_count": null,
   "id": "863ad674",
   "metadata": {},
   "outputs": [],
   "source": [
    "# Quantitative data is anything that can be counted or measured; it refers to numerical data. Qualitative data is \n",
    "# descriptive, referring to things that can be observed but not measured—such as colors or emotions."
   ]
  },
  {
   "cell_type": "markdown",
   "id": "d54cf76f",
   "metadata": {},
   "source": [
    "3.Create a basic data collection that includes some sample records. Have at least one attribute from\n",
    "each of the machine learning data types."
   ]
  },
  {
   "cell_type": "code",
   "execution_count": null,
   "id": "a9f12b90",
   "metadata": {},
   "outputs": [],
   "source": [
    "# Most data can be categorized into 4 basic types from a Machine Learning perspective: \n",
    "# numerical data\n",
    "# categorical data\n",
    "# time-series data\n",
    "# text data"
   ]
  },
  {
   "cell_type": "markdown",
   "id": "be1a60ca",
   "metadata": {},
   "source": [
    "4.What are the various causes of machine learning data issues? What are the ramifications?"
   ]
  },
  {
   "cell_type": "code",
   "execution_count": null,
   "id": "0609840f",
   "metadata": {},
   "outputs": [],
   "source": [
    "# One of the significant issues that machine learning professionals face is the absence of good quality data.\n",
    "# Unclean and noisy data can make the whole process extremely exhausting. We don't want our algorithm to make \n",
    "# inaccurate or faulty predictions. Hence the quality of data is essential to enhance the output."
   ]
  },
  {
   "cell_type": "markdown",
   "id": "173da097",
   "metadata": {},
   "source": [
    "5.Demonstrate various approaches to categorical data exploration with appropriate examples."
   ]
  },
  {
   "cell_type": "code",
   "execution_count": null,
   "id": "513769e7",
   "metadata": {},
   "outputs": [],
   "source": [
    "# Logistic Regression is a classification algorithm so it is best applied to categorical data.\n",
    "# example:\n",
    "# When a credit card transaction happens, the bank makes a note of several factors. For instance, the date of the transaction, \n",
    "# amount, place, type of purchase, etc. Based on these factors, they develop a Logistic Regression model of whether or not the \n",
    "# transaction is a fraud."
   ]
  },
  {
   "cell_type": "markdown",
   "id": "27225317",
   "metadata": {},
   "source": [
    "6.How would the learning activity be affected if certain variables have missing values? Having said\n",
    "that, what can be done about it?"
   ]
  },
  {
   "cell_type": "code",
   "execution_count": null,
   "id": "a5b1abf8",
   "metadata": {},
   "outputs": [],
   "source": [
    "# Missing values can be replaced by some measure of central tendecy like mode\n",
    "# we can also remove the missing values and then model the data"
   ]
  },
  {
   "cell_type": "markdown",
   "id": "314c213c",
   "metadata": {},
   "source": [
    "7.Describe the various methods for dealing with missing data values in depth."
   ]
  },
  {
   "cell_type": "code",
   "execution_count": null,
   "id": "45fe3817",
   "metadata": {},
   "outputs": [],
   "source": [
    "# A common technique is to use the mean or median of the non-missing observations. This can be useful in cases \n",
    "# where the number of missing observations is low. However, for large number of missing values, using mean or\n",
    "# median can result in loss of variation in data and it is better to use imputation techniques like MICE etc."
   ]
  },
  {
   "cell_type": "markdown",
   "id": "52ab5680",
   "metadata": {},
   "source": [
    "8.What are the various data pre-processing techniques? Explain dimensionality reduction and\n",
    "function selection in a few words."
   ]
  },
  {
   "cell_type": "code",
   "execution_count": null,
   "id": "c9bd5bb8",
   "metadata": {},
   "outputs": [],
   "source": [
    "# Dimensionality reduction refers to techniques that reduce the number of input variables in a dataset.\n",
    "# Principal Component Analysis (PCA), Factor Analysis (FA), Linear Discriminant Analysis (LDA) and \n",
    "# Truncated Singular Value Decomposition (SVD) are examples of linear dimensionality reduction methods."
   ]
  },
  {
   "cell_type": "markdown",
   "id": "7da85b31",
   "metadata": {},
   "source": [
    "9.\n",
    "i)What is the IQR? What criteria are used to assess it?\n",
    "ii)Describe the various components of a box plot in detail? When will the lower whisker\n",
    "surpass the upper whisker in length? How can box plots be used to identify outliers?"
   ]
  },
  {
   "cell_type": "code",
   "execution_count": null,
   "id": "9f5d2f63",
   "metadata": {},
   "outputs": [],
   "source": [
    "#i\n",
    "# The difference between Q3 and Q1 is called the Inter-Quartile Range or IQR. IQR = Q3 - Q1. To detect the outliers\n",
    "# using this method, we define a new range, let's call it decision range, and any data point lying outside this \n",
    "# range is considered as outlier and is accordingly dealt with.\n",
    "\n",
    "#ii\n",
    "# A box and whisker plot—also called a box plot—displays the five-number summary of a set of data. The five-number\n",
    "# summary is the minimum, first quartile, median, third quartile, and maximum.\n",
    "# In the boxplot below, the length of the box is IQR, and the minimum and maximum values are represented by the whiskers. \n",
    "# The whiskers are generally extended into 1.5*IQR distance on either side of the box. \n",
    "# Therefore, all data points outside these 1.5*IQR values are flagged as outliers."
   ]
  },
  {
   "cell_type": "markdown",
   "id": "237d4344",
   "metadata": {},
   "source": [
    "10.Make brief notes on any two of the following:\n",
    "1)Data collected at regular intervals\n",
    "2)The gap between the quartiles\n",
    "3)Use a cross-tab"
   ]
  },
  {
   "cell_type": "code",
   "execution_count": null,
   "id": "fe70f8b5",
   "metadata": {},
   "outputs": [],
   "source": [
    "#1\n",
    "# Examples of interval data includes temperature (in Celsius or Fahrenheit), mark grading, IQ test and CGPA. These \n",
    "# interval data examples are measured with equal intervals in their respective scales. Interval data are often used\n",
    "# for statistical research, school grading, scientific studies and probability.\n",
    "\n",
    "#2 \n",
    "# In a set of data, the quartiles are the values that divide the data into four equal parts. The median of a set of\n",
    "# data separates the set in half. ... The interquartile range or IQR is the range of the middle half of a set of\n",
    "# data. It is the difference between the upper quartile and the lower quartile.\n",
    "\n",
    "#3\n",
    "# Cross tabulation is a method to quantitatively analyze the relationship between multiple variables. Also known \n",
    "# as contingency tables or cross tabs, cross tabulation groups variables to understand the correlation between \n",
    "# different variables. It also shows how correlations change from one variable grouping to another."
   ]
  },
  {
   "cell_type": "markdown",
   "id": "14afd166",
   "metadata": {},
   "source": [
    "11.Make a comparison between:\n",
    "1)Data with nominal and ordinal values\n",
    "2)Histogram and box plot\n",
    "3)The average and median"
   ]
  },
  {
   "cell_type": "code",
   "execution_count": null,
   "id": "1626a600",
   "metadata": {},
   "outputs": [],
   "source": [
    "#1\n",
    "# Nominal data is a group of non-parametric variables, while Ordinal data is a group of non-parametric ordered variables. \n",
    "# Although, they are both non-parametric variables, what differentiates them is the fact that ordinal data is placed into some\n",
    "# kind of order by their position.\n",
    "\n",
    "#2 \n",
    "# Histograms are better in determining the underlying distribution of the data, box plots allow you to compare multiple data \n",
    "# sets better than histograms as they are less detailed and take up less space.\n",
    "\n",
    "#3 \n",
    "# The average is calculated by adding up all of the individual values and dividing this total by the number of observations. \n",
    "# The median is calculated by taking the “middle” value, the value for which half of the observations are larger and half are \n",
    "# smaller."
   ]
  }
 ],
 "metadata": {
  "kernelspec": {
   "display_name": "Python 3 (ipykernel)",
   "language": "python",
   "name": "python3"
  },
  "language_info": {
   "codemirror_mode": {
    "name": "ipython",
    "version": 3
   },
   "file_extension": ".py",
   "mimetype": "text/x-python",
   "name": "python",
   "nbconvert_exporter": "python",
   "pygments_lexer": "ipython3",
   "version": "3.9.7"
  }
 },
 "nbformat": 4,
 "nbformat_minor": 5
}
